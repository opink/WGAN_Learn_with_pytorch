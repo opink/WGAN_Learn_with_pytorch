{
 "cells": [
  {
   "cell_type": "markdown",
   "metadata": {},
   "source": [
    "## 1. Wgan with GradientPenalty\n",
    "\n",
    "1. 感觉RMSProp优化器效果也一般\n",
    "2. 还是得SGD，而且哪怕lr=0.001也可以学的很好"
   ]
  },
  {
   "cell_type": "code",
   "execution_count": 1,
   "metadata": {},
   "outputs": [
    {
     "name": "stderr",
     "output_type": "stream",
     "text": [
      "  0%|          | 0/20001 [00:00<?, ?it/s]"
     ]
    },
    {
     "name": "stdout",
     "output_type": "stream",
     "text": [
      "0.19253858923912048 -0.02710418403148651\n"
     ]
    },
    {
     "name": "stderr",
     "output_type": "stream",
     "text": [
      "  2%|▏         | 498/20001 [00:13<07:57, 40.84it/s] "
     ]
    },
    {
     "name": "stdout",
     "output_type": "stream",
     "text": [
      "-0.016876347362995148 2.80743145942688\n"
     ]
    },
    {
     "name": "stderr",
     "output_type": "stream",
     "text": [
      "  5%|▍         | 999/20001 [00:25<07:49, 40.47it/s]"
     ]
    },
    {
     "name": "stdout",
     "output_type": "stream",
     "text": [
      "-0.5247676372528076 3.841923713684082\n"
     ]
    },
    {
     "name": "stderr",
     "output_type": "stream",
     "text": [
      "  7%|▋         | 1499/20001 [00:38<08:50, 34.91it/s]"
     ]
    },
    {
     "name": "stdout",
     "output_type": "stream",
     "text": [
      "-0.6275256276130676 6.0134735107421875\n"
     ]
    },
    {
     "name": "stderr",
     "output_type": "stream",
     "text": [
      " 10%|█         | 2001/20001 [00:52<10:28, 28.63it/s]"
     ]
    },
    {
     "name": "stdout",
     "output_type": "stream",
     "text": [
      "-0.5694447755813599 7.280168533325195\n"
     ]
    },
    {
     "name": "stderr",
     "output_type": "stream",
     "text": [
      " 12%|█▏        | 2498/20001 [01:05<07:19, 39.86it/s]"
     ]
    },
    {
     "name": "stdout",
     "output_type": "stream",
     "text": [
      "-0.4616468548774719 7.54224967956543\n"
     ]
    },
    {
     "name": "stderr",
     "output_type": "stream",
     "text": [
      " 15%|█▍        | 3000/20001 [01:18<07:06, 39.89it/s]"
     ]
    },
    {
     "name": "stdout",
     "output_type": "stream",
     "text": [
      "-0.4437769055366516 7.07927131652832\n"
     ]
    },
    {
     "name": "stderr",
     "output_type": "stream",
     "text": [
      " 17%|█▋        | 3497/20001 [01:30<06:44, 40.83it/s]"
     ]
    },
    {
     "name": "stdout",
     "output_type": "stream",
     "text": [
      "-0.3669115900993347 6.585450172424316\n"
     ]
    },
    {
     "name": "stderr",
     "output_type": "stream",
     "text": [
      " 20%|█▉        | 3998/20001 [01:43<06:32, 40.77it/s]"
     ]
    },
    {
     "name": "stdout",
     "output_type": "stream",
     "text": [
      "-0.3353482484817505 6.149830341339111\n"
     ]
    },
    {
     "name": "stderr",
     "output_type": "stream",
     "text": [
      " 22%|██▏       | 4497/20001 [01:56<07:18, 35.34it/s]"
     ]
    },
    {
     "name": "stdout",
     "output_type": "stream",
     "text": [
      "-0.4024038016796112 5.796268463134766\n"
     ]
    },
    {
     "name": "stderr",
     "output_type": "stream",
     "text": [
      " 25%|██▍       | 5000/20001 [02:10<06:35, 37.90it/s]"
     ]
    },
    {
     "name": "stdout",
     "output_type": "stream",
     "text": [
      "-0.35989096760749817 5.482500076293945\n"
     ]
    },
    {
     "name": "stderr",
     "output_type": "stream",
     "text": [
      " 27%|██▋       | 5499/20001 [02:23<06:24, 37.68it/s]"
     ]
    },
    {
     "name": "stdout",
     "output_type": "stream",
     "text": [
      "-0.35802775621414185 5.245822906494141\n"
     ]
    },
    {
     "name": "stderr",
     "output_type": "stream",
     "text": [
      " 30%|██▉       | 5999/20001 [02:36<06:03, 38.56it/s]"
     ]
    },
    {
     "name": "stdout",
     "output_type": "stream",
     "text": [
      "-0.33656856417655945 4.959321975708008\n"
     ]
    },
    {
     "name": "stderr",
     "output_type": "stream",
     "text": [
      " 32%|███▏      | 6500/20001 [02:49<05:39, 39.76it/s]"
     ]
    },
    {
     "name": "stdout",
     "output_type": "stream",
     "text": [
      "-0.33901605010032654 4.747153282165527\n"
     ]
    },
    {
     "name": "stderr",
     "output_type": "stream",
     "text": [
      " 35%|███▍      | 6998/20001 [03:02<05:42, 37.95it/s]"
     ]
    },
    {
     "name": "stdout",
     "output_type": "stream",
     "text": [
      "-0.2762020230293274 4.470513820648193\n"
     ]
    },
    {
     "name": "stderr",
     "output_type": "stream",
     "text": [
      " 37%|███▋      | 7497/20001 [03:15<05:13, 39.93it/s]"
     ]
    },
    {
     "name": "stdout",
     "output_type": "stream",
     "text": [
      "-0.25470495223999023 4.294991970062256\n"
     ]
    },
    {
     "name": "stderr",
     "output_type": "stream",
     "text": [
      " 40%|████      | 8001/20001 [03:28<06:51, 29.16it/s]"
     ]
    },
    {
     "name": "stdout",
     "output_type": "stream",
     "text": [
      "-0.25358012318611145 4.046962261199951\n"
     ]
    },
    {
     "name": "stderr",
     "output_type": "stream",
     "text": [
      " 43%|████▎     | 8501/20001 [03:41<07:10, 26.73it/s]"
     ]
    },
    {
     "name": "stdout",
     "output_type": "stream",
     "text": [
      "-0.2478708028793335 3.9126667976379395\n"
     ]
    },
    {
     "name": "stderr",
     "output_type": "stream",
     "text": [
      " 45%|████▍     | 8999/20001 [03:53<04:33, 40.25it/s]"
     ]
    },
    {
     "name": "stdout",
     "output_type": "stream",
     "text": [
      "-0.17767801880836487 3.809624195098877\n"
     ]
    },
    {
     "name": "stderr",
     "output_type": "stream",
     "text": [
      " 47%|████▋     | 9497/20001 [04:06<04:20, 40.27it/s]"
     ]
    },
    {
     "name": "stdout",
     "output_type": "stream",
     "text": [
      "-0.2869132459163666 3.6131057739257812\n"
     ]
    },
    {
     "name": "stderr",
     "output_type": "stream",
     "text": [
      " 50%|█████     | 10002/20001 [04:19<05:41, 29.25it/s]"
     ]
    },
    {
     "name": "stdout",
     "output_type": "stream",
     "text": [
      "-0.19537854194641113 3.4385085105895996\n"
     ]
    },
    {
     "name": "stderr",
     "output_type": "stream",
     "text": [
      " 53%|█████▎    | 10501/20001 [04:32<05:25, 29.19it/s]"
     ]
    },
    {
     "name": "stdout",
     "output_type": "stream",
     "text": [
      "-0.2095755636692047 3.438866138458252\n"
     ]
    },
    {
     "name": "stderr",
     "output_type": "stream",
     "text": [
      " 55%|█████▍    | 10999/20001 [04:44<03:40, 40.81it/s]"
     ]
    },
    {
     "name": "stdout",
     "output_type": "stream",
     "text": [
      "-0.21391312777996063 3.2864065170288086\n"
     ]
    },
    {
     "name": "stderr",
     "output_type": "stream",
     "text": [
      " 57%|█████▋    | 11498/20001 [04:57<03:29, 40.55it/s]"
     ]
    },
    {
     "name": "stdout",
     "output_type": "stream",
     "text": [
      "-0.2166062593460083 3.2702536582946777\n"
     ]
    },
    {
     "name": "stderr",
     "output_type": "stream",
     "text": [
      " 60%|█████▉    | 11996/20001 [05:09<03:14, 41.23it/s]"
     ]
    },
    {
     "name": "stdout",
     "output_type": "stream",
     "text": [
      "-0.22002947330474854 3.1533896923065186\n"
     ]
    },
    {
     "name": "stderr",
     "output_type": "stream",
     "text": [
      " 62%|██████▏   | 12499/20001 [05:22<03:03, 40.93it/s]"
     ]
    },
    {
     "name": "stdout",
     "output_type": "stream",
     "text": [
      "-0.1848757416009903 3.0566372871398926\n"
     ]
    },
    {
     "name": "stderr",
     "output_type": "stream",
     "text": [
      " 65%|██████▍   | 12999/20001 [05:35<02:59, 38.96it/s]"
     ]
    },
    {
     "name": "stdout",
     "output_type": "stream",
     "text": [
      "-0.2039772868156433 2.9944405555725098\n"
     ]
    },
    {
     "name": "stderr",
     "output_type": "stream",
     "text": [
      " 68%|██████▊   | 13501/20001 [05:48<03:53, 27.85it/s]"
     ]
    },
    {
     "name": "stdout",
     "output_type": "stream",
     "text": [
      "-0.16619396209716797 2.8767600059509277\n"
     ]
    },
    {
     "name": "stderr",
     "output_type": "stream",
     "text": [
      " 70%|██████▉   | 14000/20001 [06:01<02:29, 40.02it/s]"
     ]
    },
    {
     "name": "stdout",
     "output_type": "stream",
     "text": [
      "-0.12220527231693268 2.8740949630737305\n"
     ]
    },
    {
     "name": "stderr",
     "output_type": "stream",
     "text": [
      " 72%|███████▏  | 14498/20001 [06:14<02:15, 40.75it/s]"
     ]
    },
    {
     "name": "stdout",
     "output_type": "stream",
     "text": [
      "-0.19992706179618835 2.770515203475952\n"
     ]
    },
    {
     "name": "stderr",
     "output_type": "stream",
     "text": [
      " 75%|███████▍  | 15000/20001 [06:26<02:03, 40.40it/s]"
     ]
    },
    {
     "name": "stdout",
     "output_type": "stream",
     "text": [
      "-0.15601785480976105 2.70352840423584\n"
     ]
    },
    {
     "name": "stderr",
     "output_type": "stream",
     "text": [
      " 77%|███████▋  | 15498/20001 [06:39<01:49, 41.19it/s]"
     ]
    },
    {
     "name": "stdout",
     "output_type": "stream",
     "text": [
      "-0.17271509766578674 2.720916748046875\n"
     ]
    },
    {
     "name": "stderr",
     "output_type": "stream",
     "text": [
      " 80%|███████▉  | 15999/20001 [06:51<01:39, 40.14it/s]"
     ]
    },
    {
     "name": "stdout",
     "output_type": "stream",
     "text": [
      "-0.15802383422851562 2.680511951446533\n"
     ]
    },
    {
     "name": "stderr",
     "output_type": "stream",
     "text": [
      " 82%|████████▏ | 16497/20001 [07:04<01:24, 41.38it/s]"
     ]
    },
    {
     "name": "stdout",
     "output_type": "stream",
     "text": [
      "-0.12980492413043976 2.641181468963623\n"
     ]
    },
    {
     "name": "stderr",
     "output_type": "stream",
     "text": [
      " 85%|████████▌ | 17001/20001 [07:17<01:43, 28.89it/s]"
     ]
    },
    {
     "name": "stdout",
     "output_type": "stream",
     "text": [
      "-0.13224485516548157 2.5653538703918457\n"
     ]
    },
    {
     "name": "stderr",
     "output_type": "stream",
     "text": [
      " 87%|████████▋ | 17497/20001 [07:29<01:00, 41.09it/s]"
     ]
    },
    {
     "name": "stdout",
     "output_type": "stream",
     "text": [
      "-0.14051435887813568 2.5528554916381836\n"
     ]
    },
    {
     "name": "stderr",
     "output_type": "stream",
     "text": [
      " 90%|████████▉ | 18000/20001 [07:42<00:49, 40.84it/s]"
     ]
    },
    {
     "name": "stdout",
     "output_type": "stream",
     "text": [
      "-0.15113554894924164 2.575045108795166\n"
     ]
    },
    {
     "name": "stderr",
     "output_type": "stream",
     "text": [
      " 92%|█████████▏| 18496/20001 [07:54<00:36, 41.41it/s]"
     ]
    },
    {
     "name": "stdout",
     "output_type": "stream",
     "text": [
      "-0.15254123508930206 2.544623374938965\n"
     ]
    },
    {
     "name": "stderr",
     "output_type": "stream",
     "text": [
      " 95%|█████████▍| 18999/20001 [08:07<00:24, 41.38it/s]"
     ]
    },
    {
     "name": "stdout",
     "output_type": "stream",
     "text": [
      "-0.15463556349277496 2.625723361968994\n"
     ]
    },
    {
     "name": "stderr",
     "output_type": "stream",
     "text": [
      " 97%|█████████▋| 19497/20001 [08:19<00:12, 40.85it/s]"
     ]
    },
    {
     "name": "stdout",
     "output_type": "stream",
     "text": [
      "-0.09922926127910614 2.572495460510254\n"
     ]
    },
    {
     "name": "stderr",
     "output_type": "stream",
     "text": [
      "100%|██████████| 20001/20001 [08:32<00:00, 39.00it/s]"
     ]
    },
    {
     "name": "stdout",
     "output_type": "stream",
     "text": [
      "-0.1116364523768425 2.5115928649902344\n"
     ]
    },
    {
     "name": "stderr",
     "output_type": "stream",
     "text": [
      "\n"
     ]
    },
    {
     "data": {
      "image/png": "[encoded data removed]",
      "text/plain": [
       "<Figure size 432x288 with 1 Axes>"
      ]
     },
     "metadata": {
      "needs_background": "light"
     },
     "output_type": "display_data"
    }
   ],
   "source": [
    "%matplotlib inline\n",
    "import torch \n",
    "from torch import nn, optim, autograd\n",
    "import numpy as np\n",
    "# import visdom\n",
    "import random\n",
    "from matplotlib import pyplot as plt \n",
    "import time\n",
    "import os\n",
    "from tqdm import tqdm\n",
    "\n",
    "h_dim = 400\n",
    "batchsz = 128\n",
    "epochs = 20000\n",
    "\n",
    "class Generator(nn.Module):\n",
    "    \n",
    "    def __init__(self):\n",
    "        super(Generator, self).__init__()\n",
    "\n",
    "        self.net = nn.Sequential(\n",
    "            # z: [b,2] -> [b,2]\n",
    "            nn.Linear(2, h_dim),\n",
    "            nn.ReLU(True),\n",
    "            nn.Linear(h_dim, 200),\n",
    "            # nn.Dropout(p=0.1),\n",
    "            nn.ReLU(True),\n",
    "            nn.Linear(200, h_dim),\n",
    "            # nn.Dropout(p=0.1),\n",
    "            nn.ReLU(True),\n",
    "            nn.Linear(h_dim, 2)\n",
    "        )\n",
    "    \n",
    "    def forward(self, z):\n",
    "        output = self.net(z)\n",
    "        return output\n",
    "\n",
    "class Discriminator(nn.Module):\n",
    "    \n",
    "    def __init__(self):\n",
    "        super(Discriminator, self).__init__()\n",
    "\n",
    "        self.net = nn.Sequential(\n",
    "            nn.Linear(2, h_dim),\n",
    "            nn.ReLU(True),\n",
    "            nn.Linear(h_dim, 2*h_dim),\n",
    "            nn.ReLU(True),\n",
    "            nn.Linear(2*h_dim, h_dim),\n",
    "            nn.ReLU(True),\n",
    "            nn.Linear(h_dim, 1),\n",
    "            # nn.Sigmoid()\n",
    "        )\n",
    "\n",
    "    def forward(self, x):\n",
    "        output = self.net(x)\n",
    "        return output.view(-1)\n",
    "\n",
    "\n",
    "# 生成2维数据集生成器\n",
    "def data_generator():\n",
    "    \"\"\"\n",
    "    8-gaussian mixtrue models\n",
    "    :yield:\n",
    "    \"\"\"\n",
    "    scale = 2.\n",
    "    centers = [(1,0),(-1,0),(0,1),(0,-1),\n",
    "        (1./np.sqrt(2),1./np.sqrt(2)),\n",
    "        (1./np.sqrt(2),-1./np.sqrt(2)),\n",
    "        (-1./np.sqrt(2),1./np.sqrt(2)),\n",
    "        (-1./np.sqrt(2),-1./np.sqrt(2))\n",
    "    ]\n",
    "    centers = [(scale*x, scale*y) for x, y in centers]\n",
    "\n",
    "    while True:\n",
    "        dataset = []\n",
    "        for i in range(batchsz):\n",
    "            point = np.random.randn(2) * 0.02\n",
    "            center = random.choice(centers)\n",
    "            # N(0,1) + center_x1/x2\n",
    "            point[0] += center[0]\n",
    "            point[1] += center[1]\n",
    "            dataset.append(point)\n",
    "        \n",
    "        dataset = np.array(dataset).astype(np.float32)\n",
    "        dataset /= 1.414\n",
    "        yield dataset\n",
    "\n",
    "# 作图函数\n",
    "def generate_image(D,G,xr,epoch,dirname):\n",
    "    \"\"\"Generates and saves a plot of the true distribution, generator, and critic.\n",
    "    \"\"\"\n",
    "    N_POINTS = 128\n",
    "    RANGE = 4\n",
    "    plt.clf()\n",
    "\n",
    "    points = np.zeros((N_POINTS, N_POINTS, 2), dtype='float32')\n",
    "    points[:,:,0] = np.linspace(-RANGE, RANGE, N_POINTS)[:, None]\n",
    "    points[:,:,1] = np.linspace(-RANGE, RANGE, N_POINTS)[None, :]\n",
    "    points = points.reshape((-1, 2))\n",
    "    # (16384, 2)\n",
    "    # print('p:', points.shape)\n",
    "    # draw contour\n",
    "    with torch.no_grad():\n",
    "        points = torch.Tensor(points).cuda()\n",
    "        disc_map = D(points).cpu().numpy()\n",
    "    x = np.linspace(-RANGE, RANGE, N_POINTS)\n",
    "    y = np.linspace(-RANGE, RANGE, N_POINTS)\n",
    "    cs = plt.contour(x, y, disc_map.reshape((len(x), len(y))).transpose())\n",
    "    plt.clabel(cs,inline = 1, fontsize = 10)\n",
    "\n",
    "    # draw samples\n",
    "    with torch.no_grad():\n",
    "        xr = xr.cpu().numpy()\n",
    "        z = torch.randn(batchsz, 2).cuda()\n",
    "        samples = G(z).cpu().numpy()\n",
    "    plt.scatter(xr[:,0],xr[:,1], c='orange',marker='.')\n",
    "    plt.scatter(samples[:,0],samples[:,1], c='green',marker='+')\n",
    "    plt.savefig(f'./{dirname}/temp_batchsize{batchsz}_epoch{epoch}.jpg')\n",
    "\n",
    "def gradient_penalty(D, xr, xf):\n",
    "    \"\"\"约束到1-lipz function\n",
    "\n",
    "    Parameters\n",
    "    ----------\n",
    "    D : _type_\n",
    "        _description_\n",
    "    xr : [b,2]\n",
    "        _description_\n",
    "    xf : [b,2]\n",
    "        _description_\n",
    "    \"\"\"\n",
    "    # [b,1]\n",
    "    t = torch.rand(batchsz, 1).cuda()\n",
    "    # [b,1] -> [b,2]\n",
    "    t = t.expand_as(xr)\n",
    "    # 差值\n",
    "    mid = t * xr + (1-t) * xf\n",
    "    mid.requires_grad_()\n",
    "    \n",
    "    pred = D(mid)\n",
    "    grads = autograd.grad(outputs=pred, inputs=mid,\n",
    "                grad_outputs=torch.ones_like(pred),\n",
    "                create_graph=True, retain_graph=True,only_inputs=True)[0]\n",
    "    gp = torch.pow(grads.norm(2, dim=1) - 1, 2).mean()\n",
    "    return gp \n",
    "\n",
    "\n",
    "\n",
    "def main():\n",
    "\n",
    "    torch.manual_seed(42)\n",
    "    np.random.seed(42)\n",
    "    dirname = time.strftime('%m%d%H%M')\n",
    "    if not os.path.exists(dirname):\n",
    "        os.mkdir('F:/Wgan/' + dirname)\n",
    "    data_iter = data_generator()\n",
    "    x = next(data_iter)\n",
    "    # [b, 2]\n",
    "    # print(x.shape)\n",
    "    G = Generator().cuda()\n",
    "    D = Discriminator().cuda()\n",
    "    # print(G)\n",
    "    optim_G = optim.RMSprop(G.parameters())\n",
    "    optim_D = optim.RMSprop(D.parameters())\n",
    "    # optim_G = optim.SGD(G.parameters(),lr=1e-3)\n",
    "    # optim_D = optim.SGD(D.parameters(),lr=1e-3)\n",
    "\n",
    "    for epoch in tqdm(range(epochs+1)):\n",
    "        \n",
    "        # 1. train Discrimator firstly\n",
    "        for _ in range(5):\n",
    "            # 1. train on real data\n",
    "            xr = next(data_iter)\n",
    "            xr = torch.from_numpy(xr).cuda()\n",
    "            predr = D(xr)\n",
    "            # max predr.mean()\n",
    "            lossr = -predr.mean()\n",
    "            # 1.2 train on fake data\n",
    "            z = torch.randn(batchsz, 2).cuda()\n",
    "            xf = G(z).detach() # 不更新G的梯度\n",
    "            predf = D(xf)\n",
    "            lossf = predf.mean()\n",
    "            \n",
    "            # 1.3 gradient penalty\n",
    "            gp = gradient_penalty(D, xr, xf.detach())\n",
    "\n",
    "            # aggragate loss\n",
    "            loss_D = lossr + lossf + 0.2 * gp\n",
    "            # optimize\n",
    "            optim_D.zero_grad()\n",
    "            loss_D.backward()\n",
    "            optim_D.step()\n",
    "\n",
    "        # 2. train Generator\n",
    "        z = torch.randn(batchsz, 2).cuda()\n",
    "        xf = G(z)\n",
    "        predf = D(xf)\n",
    "        # max predf.mean()\n",
    "        loss_G = -predf.mean()\n",
    "        # optimize\n",
    "        optim_G.zero_grad()\n",
    "        loss_G.backward()\n",
    "        optim_G.step()\n",
    "    \n",
    "        if epoch % 500 == 0:\n",
    "            print(loss_D.item(), loss_G.item())\n",
    "            generate_image(D,G,xr,epoch,dirname)\n",
    "\n",
    "        \n",
    "if __name__ == '__main__':\n",
    "    main()\n"
   ]
  },
  {
   "cell_type": "markdown",
   "metadata": {},
   "source": [
    "## 2. Wgan with Spectral norm\n",
    "\n",
    "1. SGD优化器，用了lr_scheduler\n",
    "2. RMSProp优化器，没试"
   ]
  },
  {
   "cell_type": "code",
   "execution_count": 1,
   "metadata": {},
   "outputs": [
    {
     "name": "stderr",
     "output_type": "stream",
     "text": [
      "  0%|          | 0/20001 [00:00<?, ?it/s]"
     ]
    },
    {
     "name": "stdout",
     "output_type": "stream",
     "text": [
      "-0.008826985955238342 -0.1527610719203949\n"
     ]
    },
    {
     "name": "stderr",
     "output_type": "stream",
     "text": [
      "  2%|▏         | 498/20001 [00:17<10:33, 30.80it/s] "
     ]
    },
    {
     "name": "stdout",
     "output_type": "stream",
     "text": [
      "-0.02333255112171173 0.2376689910888672\n"
     ]
    },
    {
     "name": "stderr",
     "output_type": "stream",
     "text": [
      "  5%|▍         | 999/20001 [00:33<10:02, 31.55it/s]"
     ]
    },
    {
     "name": "stdout",
     "output_type": "stream",
     "text": [
      "-0.020888864994049072 0.33331429958343506\n"
     ]
    },
    {
     "name": "stderr",
     "output_type": "stream",
     "text": [
      "  7%|▋         | 1499/20001 [00:50<10:27, 29.50it/s]"
     ]
    },
    {
     "name": "stdout",
     "output_type": "stream",
     "text": [
      "-0.025168150663375854 0.3592575192451477\n"
     ]
    },
    {
     "name": "stderr",
     "output_type": "stream",
     "text": [
      " 10%|▉         | 1998/20001 [01:07<10:30, 28.57it/s]"
     ]
    },
    {
     "name": "stdout",
     "output_type": "stream",
     "text": [
      "-0.02992236614227295 0.3831367492675781\n"
     ]
    },
    {
     "name": "stderr",
     "output_type": "stream",
     "text": [
      " 12%|█▏        | 2499/20001 [01:23<09:18, 31.35it/s]"
     ]
    },
    {
     "name": "stdout",
     "output_type": "stream",
     "text": [
      "-0.027081996202468872 0.39098143577575684\n"
     ]
    },
    {
     "name": "stderr",
     "output_type": "stream",
     "text": [
      " 15%|█▍        | 2999/20001 [01:39<09:02, 31.33it/s]"
     ]
    },
    {
     "name": "stdout",
     "output_type": "stream",
     "text": [
      "-0.024474233388900757 0.39989590644836426\n"
     ]
    },
    {
     "name": "stderr",
     "output_type": "stream",
     "text": [
      " 17%|█▋        | 3499/20001 [01:55<08:39, 31.76it/s]"
     ]
    },
    {
     "name": "stdout",
     "output_type": "stream",
     "text": [
      "-0.023722410202026367 0.3999512791633606\n"
     ]
    },
    {
     "name": "stderr",
     "output_type": "stream",
     "text": [
      " 20%|█▉        | 3999/20001 [02:12<08:24, 31.71it/s]"
     ]
    },
    {
     "name": "stdout",
     "output_type": "stream",
     "text": [
      "-0.01814192533493042 0.4088295102119446\n"
     ]
    },
    {
     "name": "stderr",
     "output_type": "stream",
     "text": [
      " 22%|██▏       | 4499/20001 [02:28<08:22, 30.87it/s]"
     ]
    },
    {
     "name": "stdout",
     "output_type": "stream",
     "text": [
      "-0.022683292627334595 0.40722644329071045\n"
     ]
    },
    {
     "name": "stderr",
     "output_type": "stream",
     "text": [
      " 25%|██▍       | 5000/20001 [02:44<07:48, 32.02it/s]"
     ]
    },
    {
     "name": "stdout",
     "output_type": "stream",
     "text": [
      "-0.03434213995933533 0.4106501340866089\n"
     ]
    },
    {
     "name": "stderr",
     "output_type": "stream",
     "text": [
      " 27%|██▋       | 5500/20001 [03:00<07:38, 31.61it/s]"
     ]
    },
    {
     "name": "stdout",
     "output_type": "stream",
     "text": [
      "-0.023532509803771973 0.41140154004096985\n"
     ]
    },
    {
     "name": "stderr",
     "output_type": "stream",
     "text": [
      " 30%|██▉       | 5997/20001 [03:16<07:21, 31.75it/s]"
     ]
    },
    {
     "name": "stdout",
     "output_type": "stream",
     "text": [
      "-0.02247774600982666 0.4228726029396057\n"
     ]
    },
    {
     "name": "stderr",
     "output_type": "stream",
     "text": [
      " 32%|███▏      | 6500/20001 [03:33<07:07, 31.58it/s]"
     ]
    },
    {
     "name": "stdout",
     "output_type": "stream",
     "text": [
      "-0.021063238382339478 0.40112748742103577\n"
     ]
    },
    {
     "name": "stderr",
     "output_type": "stream",
     "text": [
      " 35%|███▍      | 6998/20001 [03:49<07:02, 30.76it/s]"
     ]
    },
    {
     "name": "stdout",
     "output_type": "stream",
     "text": [
      "-0.02873024344444275 0.40358656644821167\n"
     ]
    },
    {
     "name": "stderr",
     "output_type": "stream",
     "text": [
      " 37%|███▋      | 7500/20001 [04:06<06:36, 31.52it/s]"
     ]
    },
    {
     "name": "stdout",
     "output_type": "stream",
     "text": [
      "-0.01915144920349121 0.40470942854881287\n"
     ]
    },
    {
     "name": "stderr",
     "output_type": "stream",
     "text": [
      " 40%|███▉      | 7997/20001 [04:22<06:22, 31.38it/s]"
     ]
    },
    {
     "name": "stdout",
     "output_type": "stream",
     "text": [
      "-0.023284614086151123 0.41061392426490784\n"
     ]
    },
    {
     "name": "stderr",
     "output_type": "stream",
     "text": [
      " 42%|████▏     | 8500/20001 [04:39<06:02, 31.69it/s]"
     ]
    },
    {
     "name": "stdout",
     "output_type": "stream",
     "text": [
      "-0.024804621934890747 0.40898025035858154\n"
     ]
    },
    {
     "name": "stderr",
     "output_type": "stream",
     "text": [
      " 45%|████▍     | 8998/20001 [04:55<05:46, 31.77it/s]"
     ]
    },
    {
     "name": "stdout",
     "output_type": "stream",
     "text": [
      "-0.023537814617156982 0.41696375608444214\n"
     ]
    },
    {
     "name": "stderr",
     "output_type": "stream",
     "text": [
      " 47%|████▋     | 9497/20001 [05:11<05:29, 31.85it/s]"
     ]
    },
    {
     "name": "stdout",
     "output_type": "stream",
     "text": [
      "-0.020603150129318237 0.4104207158088684\n"
     ]
    },
    {
     "name": "stderr",
     "output_type": "stream",
     "text": [
      " 50%|████▉     | 10000/20001 [05:27<05:17, 31.51it/s]"
     ]
    },
    {
     "name": "stdout",
     "output_type": "stream",
     "text": [
      "-0.017683804035186768 0.4140494465827942\n"
     ]
    },
    {
     "name": "stderr",
     "output_type": "stream",
     "text": [
      " 52%|█████▏    | 10497/20001 [05:43<05:04, 31.26it/s]"
     ]
    },
    {
     "name": "stdout",
     "output_type": "stream",
     "text": [
      "-0.015526950359344482 0.4099870026111603\n"
     ]
    },
    {
     "name": "stderr",
     "output_type": "stream",
     "text": [
      " 55%|█████▍    | 10998/20001 [06:00<04:53, 30.71it/s]"
     ]
    },
    {
     "name": "stdout",
     "output_type": "stream",
     "text": [
      "-0.016938239336013794 0.41198843717575073\n"
     ]
    },
    {
     "name": "stderr",
     "output_type": "stream",
     "text": [
      " 57%|█████▋    | 11498/20001 [06:16<04:26, 31.91it/s]"
     ]
    },
    {
     "name": "stdout",
     "output_type": "stream",
     "text": [
      "-0.01883569359779358 0.4082874655723572\n"
     ]
    },
    {
     "name": "stderr",
     "output_type": "stream",
     "text": [
      " 60%|█████▉    | 12000/20001 [06:32<04:11, 31.77it/s]"
     ]
    },
    {
     "name": "stdout",
     "output_type": "stream",
     "text": [
      "-0.018231958150863647 0.40896815061569214\n"
     ]
    },
    {
     "name": "stderr",
     "output_type": "stream",
     "text": [
      " 62%|██████▏   | 12500/20001 [06:48<03:56, 31.68it/s]"
     ]
    },
    {
     "name": "stdout",
     "output_type": "stream",
     "text": [
      "-0.021350204944610596 0.40822625160217285\n"
     ]
    },
    {
     "name": "stderr",
     "output_type": "stream",
     "text": [
      " 65%|██████▍   | 12998/20001 [07:04<03:46, 30.97it/s]"
     ]
    },
    {
     "name": "stdout",
     "output_type": "stream",
     "text": [
      "-0.017001092433929443 0.40985262393951416\n"
     ]
    },
    {
     "name": "stderr",
     "output_type": "stream",
     "text": [
      " 67%|██████▋   | 13500/20001 [07:21<03:27, 31.31it/s]"
     ]
    },
    {
     "name": "stdout",
     "output_type": "stream",
     "text": [
      "-0.022912681102752686 0.4083159565925598\n"
     ]
    },
    {
     "name": "stderr",
     "output_type": "stream",
     "text": [
      " 70%|██████▉   | 14000/20001 [07:37<03:35, 27.81it/s]"
     ]
    },
    {
     "name": "stdout",
     "output_type": "stream",
     "text": [
      "-0.018365025520324707 0.41450393199920654\n"
     ]
    },
    {
     "name": "stderr",
     "output_type": "stream",
     "text": [
      " 72%|███████▏  | 14499/20001 [07:54<03:21, 27.29it/s]"
     ]
    },
    {
     "name": "stdout",
     "output_type": "stream",
     "text": [
      "-0.01469510793685913 0.41512900590896606\n"
     ]
    },
    {
     "name": "stderr",
     "output_type": "stream",
     "text": [
      " 75%|███████▍  | 14999/20001 [08:10<02:42, 30.73it/s]"
     ]
    },
    {
     "name": "stdout",
     "output_type": "stream",
     "text": [
      "-0.018598824739456177 0.4105842113494873\n"
     ]
    },
    {
     "name": "stderr",
     "output_type": "stream",
     "text": [
      " 77%|███████▋  | 15500/20001 [08:27<02:26, 30.65it/s]"
     ]
    },
    {
     "name": "stdout",
     "output_type": "stream",
     "text": [
      "-0.0181543231010437 0.41075724363327026\n"
     ]
    },
    {
     "name": "stderr",
     "output_type": "stream",
     "text": [
      " 80%|███████▉  | 15998/20001 [08:43<02:06, 31.72it/s]"
     ]
    },
    {
     "name": "stdout",
     "output_type": "stream",
     "text": [
      "-0.017259299755096436 0.406108021736145\n"
     ]
    },
    {
     "name": "stderr",
     "output_type": "stream",
     "text": [
      " 82%|████████▏ | 16500/20001 [09:00<01:51, 31.38it/s]"
     ]
    },
    {
     "name": "stdout",
     "output_type": "stream",
     "text": [
      "-0.014761298894882202 0.41258442401885986\n"
     ]
    },
    {
     "name": "stderr",
     "output_type": "stream",
     "text": [
      " 85%|████████▍ | 16998/20001 [09:16<01:34, 31.93it/s]"
     ]
    },
    {
     "name": "stdout",
     "output_type": "stream",
     "text": [
      "-0.02023071050643921 0.40771520137786865\n"
     ]
    },
    {
     "name": "stderr",
     "output_type": "stream",
     "text": [
      " 87%|████████▋ | 17498/20001 [09:32<01:20, 31.28it/s]"
     ]
    },
    {
     "name": "stdout",
     "output_type": "stream",
     "text": [
      "-0.022106438875198364 0.41091710329055786\n"
     ]
    },
    {
     "name": "stderr",
     "output_type": "stream",
     "text": [
      " 90%|████████▉ | 18000/20001 [09:48<01:12, 27.56it/s]"
     ]
    },
    {
     "name": "stdout",
     "output_type": "stream",
     "text": [
      "-0.015224874019622803 0.41023313999176025\n"
     ]
    },
    {
     "name": "stderr",
     "output_type": "stream",
     "text": [
      " 92%|█████████▏| 18499/20001 [10:05<00:48, 30.99it/s]"
     ]
    },
    {
     "name": "stdout",
     "output_type": "stream",
     "text": [
      "-0.014208704233169556 0.4125986695289612\n"
     ]
    },
    {
     "name": "stderr",
     "output_type": "stream",
     "text": [
      " 95%|█████████▍| 18998/20001 [10:22<00:34, 29.48it/s]"
     ]
    },
    {
     "name": "stdout",
     "output_type": "stream",
     "text": [
      "-0.014985203742980957 0.41098272800445557\n"
     ]
    },
    {
     "name": "stderr",
     "output_type": "stream",
     "text": [
      " 97%|█████████▋| 19499/20001 [10:39<00:16, 31.33it/s]"
     ]
    },
    {
     "name": "stdout",
     "output_type": "stream",
     "text": [
      "-0.02034139633178711 0.4115900993347168\n"
     ]
    },
    {
     "name": "stderr",
     "output_type": "stream",
     "text": [
      "100%|█████████▉| 19997/20001 [10:55<00:00, 31.56it/s]"
     ]
    },
    {
     "name": "stdout",
     "output_type": "stream",
     "text": [
      "-0.0184498131275177 0.4085808992385864\n"
     ]
    },
    {
     "name": "stderr",
     "output_type": "stream",
     "text": [
      "100%|██████████| 20001/20001 [10:55<00:00, 30.50it/s]\n"
     ]
    },
    {
     "data": {
      "image/png": "[encoded data removed]",
      "text/plain": [
       "<Figure size 432x288 with 1 Axes>"
      ]
     },
     "metadata": {
      "needs_background": "light"
     },
     "output_type": "display_data"
    }
   ],
   "source": [
    "%matplotlib inline\n",
    "from torch.nn.utils import spectral_norm\n",
    "import torch \n",
    "from torch import nn, optim, autograd\n",
    "import numpy as np\n",
    "# import visdom\n",
    "import random\n",
    "from matplotlib import pyplot as plt \n",
    "import time\n",
    "import os\n",
    "from tqdm import tqdm\n",
    "from torch.optim import lr_scheduler\n",
    "\n",
    "h_dim = 400\n",
    "batchsz = 128\n",
    "epochs = 20000\n",
    "\n",
    "\n",
    "class Generator(nn.Module):\n",
    "    \n",
    "    def __init__(self):\n",
    "        super(Generator, self).__init__()\n",
    "\n",
    "        self.net = nn.Sequential(\n",
    "            # z: [b,2] -> [b,2]\n",
    "            nn.Linear(2, h_dim),\n",
    "            nn.ReLU(True),\n",
    "            nn.Linear(h_dim, 200),\n",
    "            # nn.Dropout(p=0.1),\n",
    "            nn.ReLU(True),\n",
    "            nn.Linear(200, h_dim),\n",
    "            # nn.Dropout(p=0.1),\n",
    "            nn.ReLU(True),\n",
    "            nn.Linear(h_dim, 2)\n",
    "        )\n",
    "    \n",
    "    def forward(self, z):\n",
    "        output = self.net(z)\n",
    "        return output\n",
    "\n",
    "class Discriminator(nn.Module):\n",
    "    \n",
    "    def __init__(self):\n",
    "        super(Discriminator, self).__init__()\n",
    "\n",
    "        self.net = nn.Sequential(\n",
    "            spectral_norm(nn.Linear(2, h_dim)),\n",
    "            nn.ReLU(True),\n",
    "            spectral_norm(nn.Linear(h_dim, 2*h_dim)),\n",
    "            nn.ReLU(True),\n",
    "            spectral_norm(nn.Linear(2*h_dim, h_dim)),\n",
    "            nn.ReLU(True),\n",
    "            spectral_norm(nn.Linear(h_dim, 1)),\n",
    "            # nn.Sigmoid()\n",
    "        )\n",
    "\n",
    "    def forward(self, x):\n",
    "        output = self.net(x)\n",
    "        return output.view(-1)\n",
    "\n",
    "\n",
    "# 生成2维数据集生成器\n",
    "def data_generator():\n",
    "    \"\"\"\n",
    "    8-gaussian mixtrue models\n",
    "    :yield:\n",
    "    \"\"\"\n",
    "    scale = 2.\n",
    "    centers = [(1,0),(-1,0),(0,1),(0,-1),\n",
    "        (1./np.sqrt(2),1./np.sqrt(2)),\n",
    "        (1./np.sqrt(2),-1./np.sqrt(2)),\n",
    "        (-1./np.sqrt(2),1./np.sqrt(2)),\n",
    "        (-1./np.sqrt(2),-1./np.sqrt(2))\n",
    "    ]\n",
    "    centers = [(scale*x, scale*y) for x, y in centers]\n",
    "\n",
    "    while True:\n",
    "        dataset = []\n",
    "        for i in range(batchsz):\n",
    "            point = np.random.randn(2) * 0.02\n",
    "            center = random.choice(centers)\n",
    "            # N(0,1) + center_x1/x2\n",
    "            point[0] += center[0]\n",
    "            point[1] += center[1]\n",
    "            dataset.append(point)\n",
    "        \n",
    "        dataset = np.array(dataset).astype(np.float32)\n",
    "        dataset /= 1.414\n",
    "        yield dataset\n",
    "\n",
    "# 作图函数\n",
    "def generate_image(D,G,xr,epoch,dirname):\n",
    "    \"\"\"Generates and saves a plot of the true distribution, generator, and critic.\n",
    "    \"\"\"\n",
    "    N_POINTS = 128\n",
    "    RANGE = 4\n",
    "    plt.clf()\n",
    "\n",
    "    points = np.zeros((N_POINTS, N_POINTS, 2), dtype='float32')\n",
    "    points[:,:,0] = np.linspace(-RANGE, RANGE, N_POINTS)[:, None]\n",
    "    points[:,:,1] = np.linspace(-RANGE, RANGE, N_POINTS)[None, :]\n",
    "    points = points.reshape((-1, 2))\n",
    "    # (16384, 2)\n",
    "    # print('p:', points.shape)\n",
    "    # draw contour\n",
    "    with torch.no_grad():\n",
    "        points = torch.Tensor(points).cuda()\n",
    "        disc_map = D(points).cpu().numpy()\n",
    "    x = np.linspace(-RANGE, RANGE, N_POINTS)\n",
    "    y = np.linspace(-RANGE, RANGE, N_POINTS)\n",
    "    cs = plt.contour(x, y, disc_map.reshape((len(x), len(y))).transpose())\n",
    "    plt.clabel(cs,inline = 1, fontsize = 10)\n",
    "\n",
    "    # draw samples\n",
    "    with torch.no_grad():\n",
    "        xr = xr.cpu().numpy()\n",
    "        z = torch.randn(batchsz, 2).cuda()\n",
    "        samples = G(z).cpu().numpy()\n",
    "    plt.scatter(xr[:,0],xr[:,1], c='orange',marker='.')\n",
    "    plt.scatter(samples[:,0],samples[:,1], c='green',marker='+')\n",
    "    plt.savefig(f'./{dirname}/temp_batchsize{batchsz}_epoch{epoch}.jpg')\n",
    "\n",
    "def gradient_penalty(D, xr, xf):\n",
    "    \"\"\"约束到1-lipz function\n",
    "\n",
    "    Parameters\n",
    "    ----------\n",
    "    D : _type_\n",
    "        _description_\n",
    "    xr : [b,2]\n",
    "        _description_\n",
    "    xf : [b,2]\n",
    "        _description_\n",
    "    \"\"\"\n",
    "    # [b,1]\n",
    "    t = torch.rand(batchsz, 1).cuda()\n",
    "    # [b,1] -> [b,2]\n",
    "    t = t.expand_as(xr)\n",
    "    # 差值\n",
    "    mid = t * xr + (1-t) * xf\n",
    "    mid.requires_grad_()\n",
    "    \n",
    "    pred = D(mid)\n",
    "    grads = autograd.grad(outputs=pred, inputs=mid,\n",
    "                grad_outputs=torch.ones_like(pred),\n",
    "                create_graph=True, retain_graph=True,only_inputs=True)[0]\n",
    "    gp = torch.pow(grads.norm(2, dim=1) - 1, 2).mean()\n",
    "    return gp \n",
    "\n",
    "\n",
    "def main():\n",
    "\n",
    "    torch.manual_seed(42)\n",
    "    np.random.seed(42)\n",
    "    dirname = time.strftime('%m%d%H%M')\n",
    "    if not os.path.exists(dirname):\n",
    "        os.mkdir('F:/Wgan/' + dirname)\n",
    "    data_iter = data_generator()\n",
    "    x = next(data_iter)\n",
    "    # [b, 2]\n",
    "    # print(x.shape)\n",
    "    G = Generator().cuda()\n",
    "    D = Discriminator().cuda()\n",
    "    # print(G)\n",
    "    # optim_G = optim.RMSprop(G.parameters())\n",
    "    # optim_D = optim.RMSprop(D.parameters())\n",
    "    optim_G = optim.SGD(G.parameters(),lr=5e-2)\n",
    "    optim_D = optim.SGD(D.parameters(),lr=5e-2)\n",
    "    lr_scheduler_D = lr_scheduler.StepLR(optim_D, step_size=2000, gamma=0.5)\n",
    "    lr_scheduler_G = lr_scheduler.StepLR(optim_G, step_size=2000, gamma=0.5)\n",
    "\n",
    "    for epoch in tqdm(range(epochs+1)):\n",
    "        \n",
    "        # 1. train Discrimator firstly\n",
    "        D.train() # !与只有GP时不同，没有过SN的(SN每次前向都执行),所以应该调整为评估模式，再train D的时候调回训练模式去\n",
    "        for _ in range(5):\n",
    "            # 1. train on real data\n",
    "            xr = next(data_iter)\n",
    "            xr = torch.from_numpy(xr).cuda()\n",
    "            predr = D(xr)\n",
    "            # max predr.mean()\n",
    "            lossr = -predr.mean()\n",
    "            # 1.2 train on fake data\n",
    "            z = torch.randn(batchsz, 2).cuda()\n",
    "            xf = G(z).detach() # 不更新G的梯度\n",
    "            predf = D(xf)\n",
    "            lossf = predf.mean()\n",
    "            \n",
    "            # 1.3 gradient penalty\n",
    "            # gp = gradient_penalty(D, xr, xf.detach())\n",
    "\n",
    "            # aggragate loss\n",
    "            # loss_D = lossr + lossf + 0.2 * gp\n",
    "\n",
    "            loss_D = lossr + lossf\n",
    "            # optimize\n",
    "            optim_D.zero_grad()\n",
    "            loss_D.backward()\n",
    "            optim_D.step()\n",
    "\n",
    "        # 2. train Generator\n",
    "        D.eval()\n",
    "        z = torch.randn(batchsz, 2).cuda()\n",
    "        xf = G(z)\n",
    "        # predf = D(xf) \n",
    "        # !与只有GP时不同，没有过SN的(SN每次前向都执行),所以应该调整为评估模式，再train D的时候调回训练模式去\n",
    "        predf = D(xf)\n",
    "        # max predf.mean()\n",
    "        loss_G = -predf.mean()\n",
    "        # optimize\n",
    "        optim_G.zero_grad()\n",
    "        loss_G.backward()\n",
    "        optim_G.step()\n",
    "\n",
    "        # 每for 500轮迭代一步\n",
    "        lr_scheduler_D.step()\n",
    "        lr_scheduler_G.step()  \n",
    "\n",
    "        if epoch % 500 == 0:\n",
    "            print(loss_D.item(), loss_G.item())\n",
    "            generate_image(D,G,xr,epoch,dirname)\n",
    "\n",
    "        \n",
    "if __name__ == '__main__':\n",
    "    main()\n"
   ]
  },
  {
   "cell_type": "code",
   "execution_count": null,
   "metadata": {},
   "outputs": [],
   "source": []
  }
 ],
 "metadata": {
  "kernelspec": {
   "display_name": "Python 3.8.5 ('base')",
   "language": "python",
   "name": "python3"
  },
  "language_info": {
   "codemirror_mode": {
    "name": "ipython",
    "version": 3
   },
   "file_extension": ".py",
   "mimetype": "text/x-python",
   "name": "python",
   "nbconvert_exporter": "python",
   "pygments_lexer": "ipython3",
   "version": "3.8.5"
  },
  "orig_nbformat": 4,
  "vscode": {
   "interpreter": {
    "hash": "e4cce46d6be9934fbd27f9ca0432556941ea5bdf741d4f4d64c6cd7f8dfa8fba"
   }
  }
 },
 "nbformat": 4,
 "nbformat_minor": 2
}
